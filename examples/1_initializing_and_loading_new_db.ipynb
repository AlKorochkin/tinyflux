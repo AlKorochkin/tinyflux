{
 "cells": [
  {
   "cell_type": "markdown",
   "id": "c3c62190",
   "metadata": {},
   "source": [
    "# Loading Data into TinyFlux\n",
    "\n",
    "This notebook demonstrates how to build a TinyFlux database from a CSV and a JSON datasource.\n",
    "\n",
    "AQI data comes from the [EPA website](https://aqs.epa.gov/aqsweb/airdata/download_files.html\n",
    ") and CBSA location data comes from the [US Census Bureau](https://catalog.data.gov/dataset/tiger-line-shapefile-2019-nation-u-s-current-metropolitan-statistical-area-micropolitan-statist)."
   ]
  },
  {
   "cell_type": "markdown",
   "id": "2d2a2159",
   "metadata": {},
   "source": [
    "### Import TinyFlux"
   ]
  },
  {
   "cell_type": "code",
   "execution_count": 1,
   "id": "3102f5df",
   "metadata": {},
   "outputs": [],
   "source": [
    "import csv\n",
    "from datetime import datetime\n",
    "import json\n",
    "from zoneinfo import ZoneInfo\n",
    "\n",
    "from tinyflux import TinyFlux, Point"
   ]
  },
  {
   "cell_type": "code",
   "execution_count": 2,
   "id": "e2dac875",
   "metadata": {},
   "outputs": [],
   "source": [
    "# Files.\n",
    "INPUT_FILE = \"daily_aqi_by_cbsa_ca_2019-2020.csv\"\n",
    "DB_FILE = \"ca_aqi_2019-2020.tinyflux\""
   ]
  },
  {
   "cell_type": "markdown",
   "id": "b3d97fa9",
   "metadata": {},
   "source": [
    "### Read CSV into Memory"
   ]
  },
  {
   "cell_type": "code",
   "execution_count": 3,
   "id": "b1251667",
   "metadata": {},
   "outputs": [
    {
     "name": "stdout",
     "output_type": "stream",
     "text": [
      "Csv loaded, 24608 records.\n",
      "\n",
      "Column names: CBSA, CBSA Code, Date, AQI, Category, Defining Parameter, Defining Site, Number of Sites Reporting\n",
      "\n"
     ]
    }
   ],
   "source": [
    "col_names = []\n",
    "data = []\n",
    "\n",
    "with open(INPUT_FILE) as f:\n",
    "    r = csv.reader(f)\n",
    "    for i, row in enumerate(r):\n",
    "        if i == 0:\n",
    "            col_names = row\n",
    "        else:\n",
    "            data.append(row)\n",
    "\n",
    "print(f\"Csv loaded, {len(data)} records.\\n\")\n",
    "print(f'Column names: {\", \".join(col_names)}\\n')"
   ]
  },
  {
   "cell_type": "markdown",
   "id": "bb86a521",
   "metadata": {},
   "source": [
    "### Initialize TinyFlux DB."
   ]
  },
  {
   "cell_type": "code",
   "execution_count": 4,
   "id": "d187ed07",
   "metadata": {},
   "outputs": [],
   "source": [
    "db = TinyFlux(DB_FILE)"
   ]
  },
  {
   "cell_type": "markdown",
   "id": "85c08fbb",
   "metadata": {},
   "source": [
    "### Initialize TinyFlux Points"
   ]
  },
  {
   "cell_type": "code",
   "execution_count": 5,
   "id": "160207a0",
   "metadata": {},
   "outputs": [],
   "source": [
    "points = []\n",
    "\n",
    "for row in data:\n",
    "    # Measurement name, a string.\n",
    "    measurement = \"aqi\"\n",
    "    \n",
    "    # Datetime object that is \"timezone-aware\".\n",
    "    ts_naive = datetime.strptime(row[2], \"%Y-%m-%d\")\n",
    "    ts_aware = ts_naive.replace(tzinfo=ZoneInfo(\"US/Pacific\"))\n",
    "\n",
    "    # Tags as a dict of string/string key values.\n",
    "    tags = {\n",
    "        \"cbsa\": str(row[0]),\n",
    "        \"cbsa_code\": str(row[1]),\n",
    "        \"category\": str(row[4]),\n",
    "        \"defining_parameter\": str(row[5]),\n",
    "        \"defining_site\": str(row[6]),\n",
    "    }\n",
    "    \n",
    "    # Fields as a dict of string/numeric key values.\n",
    "    fields = {\n",
    "        \"aqi\": int(row[3]),\n",
    "        \"number_of_sites_reporting\": int(row[7]),\n",
    "    }\n",
    "\n",
    "    # Initialize the Point with the above attributes.\n",
    "    p = Point(\n",
    "        measurement=measurement,\n",
    "        time=ts_aware,\n",
    "        tags=tags,\n",
    "        fields=fields,\n",
    "    )\n",
    "    \n",
    "    points.append(p)"
   ]
  },
  {
   "cell_type": "markdown",
   "id": "1b22537e",
   "metadata": {},
   "source": [
    "### Insert Points into TinyFlux"
   ]
  },
  {
   "cell_type": "code",
   "execution_count": 6,
   "id": "b6b0363c",
   "metadata": {},
   "outputs": [
    {
     "data": {
      "text/plain": [
       "24608"
      ]
     },
     "execution_count": 6,
     "metadata": {},
     "output_type": "execute_result"
    }
   ],
   "source": [
    "db.insert_multiple(points)"
   ]
  },
  {
   "cell_type": "code",
   "execution_count": 7,
   "id": "4c8de8c5",
   "metadata": {},
   "outputs": [
    {
     "name": "stdout",
     "output_type": "stream",
     "text": [
      "TinyFlux database ca_aqi_2019-2020.tinyflux has 24608 records.\n"
     ]
    }
   ],
   "source": [
    "print(f\"TinyFlux database {DB_FILE} has {len(db)} records.\")"
   ]
  },
  {
   "cell_type": "markdown",
   "id": "1ba0c734",
   "metadata": {},
   "source": [
    "## Read Geospatial Data"
   ]
  },
  {
   "cell_type": "code",
   "execution_count": null,
   "id": "77d09adb",
   "metadata": {},
   "outputs": [],
   "source": [
    "data = json.load(open(\"cbsa_ca_2019.geojson\"))"
   ]
  },
  {
   "cell_type": "markdown",
   "id": "f26f360c",
   "metadata": {},
   "source": [
    "### Insert geospatial data"
   ]
  },
  {
   "cell_type": "code",
   "execution_count": 8,
   "id": "8ad2b456",
   "metadata": {},
   "outputs": [],
   "source": [
    "for feature in data['features']:\n",
    "    # Measurement name, a string.\n",
    "    measurement = \"locations\"\n",
    "\n",
    "    # Datetime object that is \"timezone-aware\".\n",
    "    ts = datetime(2019, 1, 1, tzinfo=ZoneInfo(\"US/Pacific\"))\n",
    "\n",
    "    # Tags as a dict of string/string key values.\n",
    "    tags = {\n",
    "        \"cbsa\": feature['properties']['NAME'],\n",
    "        \"cbsa_code\": feature['properties']['CBSAFP'],\n",
    "    }\n",
    "    \n",
    "    # Fields as a dict of string/numeric key values.\n",
    "    fields = {\n",
    "        \"latitude\": feature['geometry']['coordinates'][1],\n",
    "        \"longitude\": feature['geometry']['coordinates'][0],\n",
    "    }\n",
    "\n",
    "    # Initialize the Point with the above attributes.\n",
    "    p = Point(\n",
    "        measurement=measurement,\n",
    "        time=ts_aware,\n",
    "        tags=tags,\n",
    "        fields=fields,\n",
    "    )\n",
    "        \n",
    "    db.insert(p)"
   ]
  },
  {
   "cell_type": "code",
   "execution_count": 9,
   "id": "70267fab",
   "metadata": {},
   "outputs": [
    {
     "name": "stdout",
     "output_type": "stream",
     "text": [
      "TinyFlux database ca_aqi_2019-2020.tinyflux has 24642 records.\n"
     ]
    }
   ],
   "source": [
    "print(f\"TinyFlux database {DB_FILE} has {len(db)} records.\")"
   ]
  }
 ],
 "metadata": {
  "kernelspec": {
   "display_name": "tinyflux-3.10.4",
   "language": "python",
   "name": "tinyflux-3.10.4"
  },
  "language_info": {
   "codemirror_mode": {
    "name": "ipython",
    "version": 3
   },
   "file_extension": ".py",
   "mimetype": "text/x-python",
   "name": "python",
   "nbconvert_exporter": "python",
   "pygments_lexer": "ipython3",
   "version": "3.10.4"
  }
 },
 "nbformat": 4,
 "nbformat_minor": 5
}
